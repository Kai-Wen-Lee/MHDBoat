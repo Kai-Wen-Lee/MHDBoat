{
 "cells": [
  {
   "cell_type": "code",
   "execution_count": 14,
   "id": "d655d51f-dff8-42ca-86cc-e098c4feda82",
   "metadata": {},
   "outputs": [],
   "source": [
    "import numpy as np\n",
    "import matplotlib as plt\n",
    "\n",
    "#Define salinity\n",
    "seawater_density = 1030 #kg/m^3\n",
    "brine_density = 1230 #kg/m^3\n",
    "g = 9.812 #ms^-2\n",
    "\n",
    "def kg_to_g(x):\n",
    "    return x/1000.0\n",
    "\n",
    "def mm_to_m(x):\n",
    "    return x/1000.0"
   ]
  },
  {
   "cell_type": "code",
   "execution_count": 2,
   "id": "d7577357-d721-46ac-a6a6-55e1ec815fdf",
   "metadata": {},
   "outputs": [
    {
     "name": "stdout",
     "output_type": "stream",
     "text": [
      "3.75e-05\n",
      "38.625\n"
     ]
    }
   ],
   "source": [
    "#MHD-1\n",
    "# Volume below waterline (aka displaced water)\n",
    "L_disp = 37.5+40+110.0 #mm\n",
    "H_disp = 10 #mm\n",
    "W_disp = 20 #mm\n",
    "\n",
    "L_disp /= 1000 #convert to m\n",
    "H_disp /= 1000\n",
    "W_disp /= 1000\n",
    "\n",
    "V_disp = L_disp*H_disp*W_disp\n",
    "M_disp=seawater_density*V_disp\n",
    "F_bou = M_disp*g\n",
    "\n",
    "print(V_disp)\n",
    "print(M_disp*1000) #g"
   ]
  },
  {
   "cell_type": "markdown",
   "id": "76732033-c483-4e9c-b51d-fcc3ab3cbca3",
   "metadata": {},
   "source": [
    "# MHD-1A"
   ]
  },
  {
   "cell_type": "code",
   "execution_count": 19,
   "id": "8962f03f-1d31-4cd8-8a7e-58bbafa6773a",
   "metadata": {},
   "outputs": [
    {
     "name": "stdout",
     "output_type": "stream",
     "text": [
      "0.375\n"
     ]
    }
   ],
   "source": [
    "#Batt specs\n",
    "#https://www.rc-factory.eu/baterie/2s/dualsky-eco-150mah-2s-30c\n",
    "L_batt = mm_to_m(36) \n",
    "W_batt = mm_to_m(11) \n",
    "H_batt = mm_to_m(12) \n",
    "#MHD-1A\n",
    "M_electrode = kg_to_g(30) #g, weight for x1\n",
    "M_mag = kg_to_g(35) #g\n",
    "M_batt = kg_to_g(10) #g, weight for x1, tentative\n",
    "M_wire = kg_to_g(10) #g, estimate\n",
    "safety_factor = 3\n",
    "\n",
    "M_tot=(2*M_electrode+M_mag+2*M_batt+M_wire)*safety_factor\n",
    "print(M_tot)\n",
    "\n",
    "L= mm_to_m(225)\n",
    "W= mm_to_m(75) "
   ]
  },
  {
   "cell_type": "code",
   "execution_count": 20,
   "id": "3225f7c9-129c-41ed-9993-bc09112db765",
   "metadata": {},
   "outputs": [
    {
     "name": "stdout",
     "output_type": "stream",
     "text": [
      "0.00036407766990291263\n"
     ]
    }
   ],
   "source": [
    "V_disp=M_tot/seawater_density\n",
    "\n",
    "print(V_disp)"
   ]
  },
  {
   "cell_type": "code",
   "execution_count": 21,
   "id": "cbc46850-1a01-4dec-9e8d-9ebc8947a8c3",
   "metadata": {},
   "outputs": [
    {
     "name": "stdout",
     "output_type": "stream",
     "text": [
      "0.016181229773462782\n"
     ]
    }
   ],
   "source": [
    "def MHD_1_hdisp(V):\n",
    "    return V/(L*W)\n",
    "\n",
    "print(MHD_1_hdisp(V_disp)) #required height for a 2d plan"
   ]
  },
  {
   "cell_type": "code",
   "execution_count": null,
   "id": "9cba1ca1-66e7-46ee-ab0c-b31300c95f40",
   "metadata": {},
   "outputs": [],
   "source": []
  }
 ],
 "metadata": {
  "kernelspec": {
   "display_name": "Python 3 (ipykernel)",
   "language": "python",
   "name": "python3"
  },
  "language_info": {
   "codemirror_mode": {
    "name": "ipython",
    "version": 3
   },
   "file_extension": ".py",
   "mimetype": "text/x-python",
   "name": "python",
   "nbconvert_exporter": "python",
   "pygments_lexer": "ipython3",
   "version": "3.12.10"
  }
 },
 "nbformat": 4,
 "nbformat_minor": 5
}
