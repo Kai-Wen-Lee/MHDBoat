{
 "cells": [
  {
   "cell_type": "code",
   "execution_count": 1,
   "id": "4815580c-c785-45f5-9b68-1d09d40f4575",
   "metadata": {},
   "outputs": [],
   "source": [
    "import pyfreefem\n",
    "import pymedit\n",
    "import magpylib\n",
    "import pyvista as pv"
   ]
  },
  {
   "cell_type": "code",
   "execution_count": null,
   "id": "478a4b77-7726-45a8-b290-745690acdfb4",
   "metadata": {},
   "outputs": [],
   "source": []
  }
 ],
 "metadata": {
  "kernelspec": {
   "display_name": "Python 3 (ipykernel)",
   "language": "python",
   "name": "python3"
  },
  "language_info": {
   "codemirror_mode": {
    "name": "ipython",
    "version": 3
   },
   "file_extension": ".py",
   "mimetype": "text/x-python",
   "name": "python",
   "nbconvert_exporter": "python",
   "pygments_lexer": "ipython3",
   "version": "3.12.9"
  }
 },
 "nbformat": 4,
 "nbformat_minor": 5
}
