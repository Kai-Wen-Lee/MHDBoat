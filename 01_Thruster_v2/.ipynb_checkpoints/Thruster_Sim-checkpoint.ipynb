{
 "cells": [
  {
   "cell_type": "code",
   "execution_count": null,
   "id": "4815580c-c785-45f5-9b68-1d09d40f4575",
   "metadata": {},
   "outputs": [],
   "source": [
    "import pyfreefem\n",
    "import pymedit\n",
    "import magpylib\n",
    "import pyvista as pv"
   ]
  }
 ],
 "metadata": {
  "kernelspec": {
   "display_name": "Python 3 (ipykernel)",
   "language": "python",
   "name": "python3"
  },
  "language_info": {
   "codemirror_mode": {
    "name": "ipython",
    "version": 3
   },
   "file_extension": ".py",
   "mimetype": "text/x-python",
   "name": "python",
   "nbconvert_exporter": "python",
   "pygments_lexer": "ipython3",
   "version": "3.12.9"
  }
 },
 "nbformat": 4,
 "nbformat_minor": 5
}
